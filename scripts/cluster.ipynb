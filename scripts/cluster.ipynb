{
 "cells": [
  {
   "cell_type": "code",
   "execution_count": 1,
   "metadata": {},
   "outputs": [],
   "source": [
    "# immport libraries\n",
    "import alphashape\n",
    "import shapely.geometry as geometry\n",
    "from shapely.geometry import Polygon\n",
    "from descartes import PolygonPatch\n",
    "import matplotlib.gridspec as gridspec\n",
    "import matplotlib.pyplot as plt\n",
    "import numpy as np\n",
    "import pandas as pd\n",
    "import netCDF4\n",
    "import cartopy.crs as ccrs\n",
    "import cartopy.feature as cfeature\n",
    "import cc3d\n",
    "from shapely.geometry import shape\n",
    "from shapely.ops import transform\n",
    "import pyproj\n",
    "from functools import partial\n",
    "from datetime import datetime, timedelta"
   ]
  },
  {
   "cell_type": "code",
   "execution_count": 3,
   "metadata": {},
   "outputs": [],
   "source": [
    "date = \"20170713_00\""
   ]
  },
  {
   "cell_type": "code",
   "execution_count": 6,
   "metadata": {},
   "outputs": [],
   "source": [
    "columns = [\"level\",\"value\",\"main_label\",\"sub_label\",\"centroid_lon\",\"centroid_lat\",\"hull_area\",\"owlag\"]"
   ]
  },
  {
   "cell_type": "code",
   "execution_count": 13,
   "metadata": {},
   "outputs": [],
   "source": [
    "df = pd.read_csv(\"../results/cluster_%s.dat\" %date,names = columns, header = None, delim_whitespace = True)"
   ]
  },
  {
   "cell_type": "code",
   "execution_count": 38,
   "metadata": {},
   "outputs": [],
   "source": [
    "levels = df[\"level\"].value_counts(sort=False).index.to_numpy()"
   ]
  },
  {
   "cell_type": "code",
   "execution_count": 39,
   "metadata": {},
   "outputs": [],
   "source": [
    "# for ilev,lev in enumerate(levels):\n",
    "#     print(df[df[\"level\"] == lev ])"
   ]
  },
  {
   "cell_type": "code",
   "execution_count": 40,
   "metadata": {},
   "outputs": [],
   "source": [
    "# check 750 hPa\n",
    "check_df = df[df[\"level\"] == 750]"
   ]
  },
  {
   "cell_type": "code",
   "execution_count": 41,
   "metadata": {},
   "outputs": [
    {
     "data": {
      "text/plain": [
       "0.0      8\n",
       "0.5      5\n",
       "1.0      7\n",
       "1.5     10\n",
       "2.0     10\n",
       "        ..\n",
       "19.1     1\n",
       "5.8      4\n",
       "12.4     1\n",
       "3.1      9\n",
       "7.8      2\n",
       "Name: value, Length: 196, dtype: int64"
      ]
     },
     "execution_count": 41,
     "metadata": {},
     "output_type": "execute_result"
    }
   ],
   "source": [
    "check_df[\"value\"].value_counts(sort=False)"
   ]
  },
  {
   "cell_type": "code",
   "execution_count": 42,
   "metadata": {},
   "outputs": [
    {
     "data": {
      "text/html": [
       "<div>\n",
       "<style scoped>\n",
       "    .dataframe tbody tr th:only-of-type {\n",
       "        vertical-align: middle;\n",
       "    }\n",
       "\n",
       "    .dataframe tbody tr th {\n",
       "        vertical-align: top;\n",
       "    }\n",
       "\n",
       "    .dataframe thead th {\n",
       "        text-align: right;\n",
       "    }\n",
       "</style>\n",
       "<table border=\"1\" class=\"dataframe\">\n",
       "  <thead>\n",
       "    <tr style=\"text-align: right;\">\n",
       "      <th></th>\n",
       "      <th>level</th>\n",
       "      <th>value</th>\n",
       "      <th>main_label</th>\n",
       "      <th>sub_label</th>\n",
       "      <th>centroid_lon</th>\n",
       "      <th>centroid_lat</th>\n",
       "      <th>hull_area</th>\n",
       "      <th>owlag</th>\n",
       "    </tr>\n",
       "  </thead>\n",
       "  <tbody>\n",
       "    <tr>\n",
       "      <th>2939</th>\n",
       "      <td>750</td>\n",
       "      <td>0.0</td>\n",
       "      <td>1</td>\n",
       "      <td>1</td>\n",
       "      <td>99.124</td>\n",
       "      <td>3.217</td>\n",
       "      <td>1.186983e+11</td>\n",
       "      <td>-1.753953e-05</td>\n",
       "    </tr>\n",
       "    <tr>\n",
       "      <th>2940</th>\n",
       "      <td>750</td>\n",
       "      <td>0.0</td>\n",
       "      <td>2</td>\n",
       "      <td>2</td>\n",
       "      <td>119.527</td>\n",
       "      <td>5.688</td>\n",
       "      <td>1.712777e+10</td>\n",
       "      <td>-4.354911e-06</td>\n",
       "    </tr>\n",
       "    <tr>\n",
       "      <th>2941</th>\n",
       "      <td>750</td>\n",
       "      <td>0.0</td>\n",
       "      <td>3</td>\n",
       "      <td>1</td>\n",
       "      <td>119.890</td>\n",
       "      <td>14.610</td>\n",
       "      <td>1.135138e+13</td>\n",
       "      <td>-9.656134e-07</td>\n",
       "    </tr>\n",
       "    <tr>\n",
       "      <th>2942</th>\n",
       "      <td>750</td>\n",
       "      <td>0.0</td>\n",
       "      <td>3</td>\n",
       "      <td>2</td>\n",
       "      <td>93.151</td>\n",
       "      <td>16.754</td>\n",
       "      <td>1.601772e+12</td>\n",
       "      <td>2.205947e-06</td>\n",
       "    </tr>\n",
       "    <tr>\n",
       "      <th>2943</th>\n",
       "      <td>750</td>\n",
       "      <td>0.0</td>\n",
       "      <td>3</td>\n",
       "      <td>4</td>\n",
       "      <td>109.843</td>\n",
       "      <td>5.537</td>\n",
       "      <td>7.003105e+09</td>\n",
       "      <td>5.779031e-07</td>\n",
       "    </tr>\n",
       "    <tr>\n",
       "      <th>...</th>\n",
       "      <td>...</td>\n",
       "      <td>...</td>\n",
       "      <td>...</td>\n",
       "      <td>...</td>\n",
       "      <td>...</td>\n",
       "      <td>...</td>\n",
       "      <td>...</td>\n",
       "      <td>...</td>\n",
       "    </tr>\n",
       "    <tr>\n",
       "      <th>3587</th>\n",
       "      <td>750</td>\n",
       "      <td>19.1</td>\n",
       "      <td>1</td>\n",
       "      <td>1</td>\n",
       "      <td>141.750</td>\n",
       "      <td>25.500</td>\n",
       "      <td>9.439158e+09</td>\n",
       "      <td>4.887164e-04</td>\n",
       "    </tr>\n",
       "    <tr>\n",
       "      <th>3588</th>\n",
       "      <td>750</td>\n",
       "      <td>19.2</td>\n",
       "      <td>1</td>\n",
       "      <td>1</td>\n",
       "      <td>141.770</td>\n",
       "      <td>25.520</td>\n",
       "      <td>9.011437e+09</td>\n",
       "      <td>4.957950e-04</td>\n",
       "    </tr>\n",
       "    <tr>\n",
       "      <th>3589</th>\n",
       "      <td>750</td>\n",
       "      <td>19.3</td>\n",
       "      <td>1</td>\n",
       "      <td>1</td>\n",
       "      <td>141.750</td>\n",
       "      <td>25.500</td>\n",
       "      <td>8.581038e+09</td>\n",
       "      <td>4.957950e-04</td>\n",
       "    </tr>\n",
       "    <tr>\n",
       "      <th>3590</th>\n",
       "      <td>750</td>\n",
       "      <td>19.4</td>\n",
       "      <td>1</td>\n",
       "      <td>1</td>\n",
       "      <td>141.779</td>\n",
       "      <td>25.559</td>\n",
       "      <td>7.297875e+09</td>\n",
       "      <td>5.121268e-04</td>\n",
       "    </tr>\n",
       "    <tr>\n",
       "      <th>3591</th>\n",
       "      <td>750</td>\n",
       "      <td>19.5</td>\n",
       "      <td>1</td>\n",
       "      <td>1</td>\n",
       "      <td>141.817</td>\n",
       "      <td>25.517</td>\n",
       "      <td>4.290483e+09</td>\n",
       "      <td>5.121268e-04</td>\n",
       "    </tr>\n",
       "  </tbody>\n",
       "</table>\n",
       "<p>653 rows × 8 columns</p>\n",
       "</div>"
      ],
      "text/plain": [
       "      level  value  main_label  sub_label  centroid_lon  centroid_lat  \\\n",
       "2939    750    0.0           1          1        99.124         3.217   \n",
       "2940    750    0.0           2          2       119.527         5.688   \n",
       "2941    750    0.0           3          1       119.890        14.610   \n",
       "2942    750    0.0           3          2        93.151        16.754   \n",
       "2943    750    0.0           3          4       109.843         5.537   \n",
       "...     ...    ...         ...        ...           ...           ...   \n",
       "3587    750   19.1           1          1       141.750        25.500   \n",
       "3588    750   19.2           1          1       141.770        25.520   \n",
       "3589    750   19.3           1          1       141.750        25.500   \n",
       "3590    750   19.4           1          1       141.779        25.559   \n",
       "3591    750   19.5           1          1       141.817        25.517   \n",
       "\n",
       "         hull_area         owlag  \n",
       "2939  1.186983e+11 -1.753953e-05  \n",
       "2940  1.712777e+10 -4.354911e-06  \n",
       "2941  1.135138e+13 -9.656134e-07  \n",
       "2942  1.601772e+12  2.205947e-06  \n",
       "2943  7.003105e+09  5.779031e-07  \n",
       "...            ...           ...  \n",
       "3587  9.439158e+09  4.887164e-04  \n",
       "3588  9.011437e+09  4.957950e-04  \n",
       "3589  8.581038e+09  4.957950e-04  \n",
       "3590  7.297875e+09  5.121268e-04  \n",
       "3591  4.290483e+09  5.121268e-04  \n",
       "\n",
       "[653 rows x 8 columns]"
      ]
     },
     "execution_count": 42,
     "metadata": {},
     "output_type": "execute_result"
    }
   ],
   "source": [
    "check_df"
   ]
  },
  {
   "cell_type": "code",
   "execution_count": null,
   "metadata": {},
   "outputs": [],
   "source": []
  }
 ],
 "metadata": {
  "kernelspec": {
   "display_name": "Python 3",
   "language": "python",
   "name": "python3"
  },
  "language_info": {
   "codemirror_mode": {
    "name": "ipython",
    "version": 3
   },
   "file_extension": ".py",
   "mimetype": "text/x-python",
   "name": "python",
   "nbconvert_exporter": "python",
   "pygments_lexer": "ipython3",
   "version": "3.7.3"
  }
 },
 "nbformat": 4,
 "nbformat_minor": 2
}
