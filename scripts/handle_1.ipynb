{
 "cells": [
  {
   "cell_type": "code",
   "execution_count": 35,
   "metadata": {},
   "outputs": [],
   "source": [
    "import alphashape\n",
    "import shapely.geometry as geometry\n",
    "from shapely.geometry import Polygon\n",
    "from descartes import PolygonPatch\n",
    "import matplotlib.gridspec as gridspec\n",
    "import matplotlib.pyplot as plt\n",
    "import numpy as np\n",
    "import pandas as pd\n",
    "import netCDF4\n",
    "import cartopy.crs as ccrs\n",
    "import cartopy.feature as cfeature\n",
    "import cc3d\n",
    "from shapely.geometry import shape\n",
    "from shapely.ops import transform\n",
    "import pyproj\n",
    "from functools import partial"
   ]
  },
  {
   "cell_type": "markdown",
   "metadata": {},
   "source": [
    "## Define some definitions"
   ]
  },
  {
   "cell_type": "code",
   "execution_count": 36,
   "metadata": {},
   "outputs": [],
   "source": [
    "def ow_lag(date):\n",
    "    # Read from forward\n",
    "    f_fw = netCDF4.Dataset('../data/forward/new_%s.nc' %date, 'r')\n",
    "    f_bw = netCDF4.Dataset('../data/backward/new_%s.nc' %date, 'r')\n",
    "    \n",
    "    f_ieig1 = f_fw.variables['ieig1']\n",
    "    f_reig1 = f_fw.variables['reig1']\n",
    "    b_ieig1 = f_bw.variables['ieig1']\n",
    "    b_reig1 = f_bw.variables['reig1']\n",
    "    \n",
    "    ieig1 = f_ieig1[:,:,:] + b_ieig1[:,:,:]\n",
    "    reig1 = f_reig1[:,:,:] + b_reig1[:,:,:]\n",
    "\n",
    "    ow_lag = ieig1[:,:,:] - b_ieig1[:,:,:]\n",
    "    # Flush\n",
    "    f_fw = None; f_bw = None; f_ieig1 = None; f_reig1 = None; b_ieig1 = None; b_reig1 = None\n",
    "    ieig1 = None; reig1 = None\n",
    "    \n",
    "    return ow_lag"
   ]
  },
  {
   "cell_type": "code",
   "execution_count": 37,
   "metadata": {},
   "outputs": [],
   "source": [
    "proj = partial(pyproj.transform, pyproj.Proj(init='epsg:4326'),\n",
    "               pyproj.Proj(init='epsg:3857'))"
   ]
  },
  {
   "cell_type": "code",
   "execution_count": 38,
   "metadata": {},
   "outputs": [],
   "source": [
    "date = \"20170729_06\""
   ]
  },
  {
   "cell_type": "code",
   "execution_count": 39,
   "metadata": {},
   "outputs": [],
   "source": [
    "df = pd.read_csv(\"../CLU_VORT/labels/labellist_%s.csv\" %date, header = None, names = [\"values\",\"npoints\",\"labels\"])"
   ]
  },
  {
   "cell_type": "code",
   "execution_count": 40,
   "metadata": {},
   "outputs": [
    {
     "data": {
      "text/html": [
       "<div>\n",
       "<style scoped>\n",
       "    .dataframe tbody tr th:only-of-type {\n",
       "        vertical-align: middle;\n",
       "    }\n",
       "\n",
       "    .dataframe tbody tr th {\n",
       "        vertical-align: top;\n",
       "    }\n",
       "\n",
       "    .dataframe thead th {\n",
       "        text-align: right;\n",
       "    }\n",
       "</style>\n",
       "<table border=\"1\" class=\"dataframe\">\n",
       "  <thead>\n",
       "    <tr style=\"text-align: right;\">\n",
       "      <th></th>\n",
       "      <th>values</th>\n",
       "      <th>npoints</th>\n",
       "      <th>labels</th>\n",
       "    </tr>\n",
       "  </thead>\n",
       "  <tbody>\n",
       "    <tr>\n",
       "      <th>0</th>\n",
       "      <td>0.0</td>\n",
       "      <td>11</td>\n",
       "      <td>1</td>\n",
       "    </tr>\n",
       "    <tr>\n",
       "      <th>1</th>\n",
       "      <td>0.0</td>\n",
       "      <td>11</td>\n",
       "      <td>2</td>\n",
       "    </tr>\n",
       "    <tr>\n",
       "      <th>2</th>\n",
       "      <td>0.0</td>\n",
       "      <td>11</td>\n",
       "      <td>3</td>\n",
       "    </tr>\n",
       "    <tr>\n",
       "      <th>3</th>\n",
       "      <td>0.0</td>\n",
       "      <td>11</td>\n",
       "      <td>12</td>\n",
       "    </tr>\n",
       "    <tr>\n",
       "      <th>4</th>\n",
       "      <td>0.0</td>\n",
       "      <td>11</td>\n",
       "      <td>21</td>\n",
       "    </tr>\n",
       "    <tr>\n",
       "      <th>...</th>\n",
       "      <td>...</td>\n",
       "      <td>...</td>\n",
       "      <td>...</td>\n",
       "    </tr>\n",
       "    <tr>\n",
       "      <th>1812</th>\n",
       "      <td>41.9</td>\n",
       "      <td>1</td>\n",
       "      <td>2</td>\n",
       "    </tr>\n",
       "    <tr>\n",
       "      <th>1813</th>\n",
       "      <td>42.0</td>\n",
       "      <td>1</td>\n",
       "      <td>2</td>\n",
       "    </tr>\n",
       "    <tr>\n",
       "      <th>1814</th>\n",
       "      <td>42.1</td>\n",
       "      <td>1</td>\n",
       "      <td>2</td>\n",
       "    </tr>\n",
       "    <tr>\n",
       "      <th>1815</th>\n",
       "      <td>42.2</td>\n",
       "      <td>1</td>\n",
       "      <td>2</td>\n",
       "    </tr>\n",
       "    <tr>\n",
       "      <th>1816</th>\n",
       "      <td>42.3</td>\n",
       "      <td>1</td>\n",
       "      <td>1</td>\n",
       "    </tr>\n",
       "  </tbody>\n",
       "</table>\n",
       "<p>1817 rows × 3 columns</p>\n",
       "</div>"
      ],
      "text/plain": [
       "      values  npoints  labels\n",
       "0        0.0       11       1\n",
       "1        0.0       11       2\n",
       "2        0.0       11       3\n",
       "3        0.0       11      12\n",
       "4        0.0       11      21\n",
       "...      ...      ...     ...\n",
       "1812    41.9        1       2\n",
       "1813    42.0        1       2\n",
       "1814    42.1        1       2\n",
       "1815    42.2        1       2\n",
       "1816    42.3        1       1\n",
       "\n",
       "[1817 rows x 3 columns]"
      ]
     },
     "execution_count": 40,
     "metadata": {},
     "output_type": "execute_result"
    }
   ],
   "source": [
    "df"
   ]
  },
  {
   "cell_type": "code",
   "execution_count": 41,
   "metadata": {},
   "outputs": [],
   "source": [
    "npoints = df.groupby([\"values\"])[\"npoints\"].count().to_numpy()"
   ]
  },
  {
   "cell_type": "code",
   "execution_count": 42,
   "metadata": {},
   "outputs": [],
   "source": [
    "values = df.groupby([\"values\"]).count().index.to_numpy()"
   ]
  },
  {
   "cell_type": "code",
   "execution_count": 43,
   "metadata": {},
   "outputs": [],
   "source": [
    "# Check \n",
    "val = values[10]\n",
    "label = df[df[\"values\"] == val][\"labels\"].to_numpy()"
   ]
  },
  {
   "cell_type": "code",
   "execution_count": 44,
   "metadata": {},
   "outputs": [
    {
     "data": {
      "text/plain": [
       "array([ 1,  2,  3,  4,  5,  6,  8, 14, 23, 24, 26, 29, 34, 39, 41, 43, 46,\n",
       "       48, 50])"
      ]
     },
     "execution_count": 44,
     "metadata": {},
     "output_type": "execute_result"
    }
   ],
   "source": [
    "label"
   ]
  },
  {
   "cell_type": "code",
   "execution_count": 45,
   "metadata": {},
   "outputs": [],
   "source": [
    "# Check file 1\n",
    "f = netCDF4.Dataset(\"../CLU_VORT/nc_files/cc3d_%s.nc\" %date,\"r\")"
   ]
  },
  {
   "cell_type": "code",
   "execution_count": 46,
   "metadata": {},
   "outputs": [
    {
     "name": "stdout",
     "output_type": "stream",
     "text": [
      "221 121 11\n"
     ]
    }
   ],
   "source": [
    "lons = f.variables['longitude'][:]\n",
    "lats = f.variables['latitude'][:]\n",
    "levs = f.variables['level'][:]\n",
    "\n",
    "nlev = levs.shape[0]\n",
    "nlon = lons.shape[0]\n",
    "nlat = lats.shape[0]\n",
    "print(nlon,nlat,nlev)"
   ]
  },
  {
   "cell_type": "code",
   "execution_count": 47,
   "metadata": {},
   "outputs": [],
   "source": [
    "# Get OW_LAG\n",
    "ow_lag = ow_lag(date)"
   ]
  },
  {
   "cell_type": "code",
   "execution_count": 48,
   "metadata": {},
   "outputs": [],
   "source": [
    "# Sample var\n",
    "ilev = 1\n",
    "var = f.variables[\"labels_cc3d_%05.2f\" %val][ilev,:,:]\n",
    "\n"
   ]
  },
  {
   "cell_type": "code",
   "execution_count": 51,
   "metadata": {},
   "outputs": [
    {
     "name": "stdout",
     "output_type": "stream",
     "text": [
      "6\n"
     ]
    },
    {
     "name": "stderr",
     "output_type": "stream",
     "text": [
      "WARNING:root:maximum allowed iterations reached while optimizing the alpha parameter\n"
     ]
    },
    {
     "name": "stdout",
     "output_type": "stream",
     "text": [
      "264814869494.48502\n"
     ]
    },
    {
     "name": "stderr",
     "output_type": "stream",
     "text": [
      "WARNING:root:maximum allowed iterations reached while optimizing the alpha parameter\n"
     ]
    },
    {
     "name": "stdout",
     "output_type": "stream",
     "text": [
      "381305831803.73114\n"
     ]
    }
   ],
   "source": [
    "\n",
    "for ilabel in label[2:3]:\n",
    "    a_check = (var == ilabel).sum()\n",
    "    \n",
    "    lab_arr = (var == ilabel).astype('int')\n",
    "    \n",
    "#     print(lab_arr)\n",
    "    labels_out = cc3d.connected_components(lab_arr,connectivity = 6)\n",
    "\n",
    "    print(np.max(labels_out))\n",
    "\n",
    "    for j in range(1,np.max(labels_out) + 1):\n",
    "        ilat,ilon = np.where(labels_out == j)\n",
    "        \n",
    "        SMALL_THRESHOLD = 6\n",
    "        count = len(ilat)\n",
    "        if count > SMALL_THRESHOLD:\n",
    "            latind_1 = lats[ilat]\n",
    "            lonind_1 = lons[ilon]\n",
    "         \n",
    "            points = np.zeros([len(latind_1),2])\n",
    "            for ipt in range(len(latind_1)):\n",
    "                points[ipt,0] = lonind_1[ipt]\n",
    "                points[ipt,1] = latind_1[ipt]\n",
    "        \n",
    "            alpha = 0.95 * alphashape.optimizealpha(points, max_iterations=100)\n",
    "    \n",
    "            hull = alphashape.alphashape(points, alpha)\n",
    "            hull_lons,hull_lats = hull.exterior.coords.xy\n",
    "            hull_ilon = np.searchsorted(lons,hull_lons)\n",
    "            hull_ilat = np.searchsorted(lats,hull_lats)\n",
    "            \n",
    "            # Output centroids and area\n",
    "            hull_centx = hull.centroid.x\n",
    "            hull_centy = hull.centroid.y\n",
    "#             hull_area = hull.area # in square degrees\n",
    "\n",
    "            s = shape(hull)\n",
    "            hull_area = transform(proj, s).area\n",
    "            print(hull_area)\n",
    "            #\n",
    "\n",
    "            min_owlag = np.nanmin([x for x in ow_lag[ilev,hull_ilat,hull_ilon] if x != 0])\n",
    "            \n",
    "            print('{:>5.3f}\\t{:>5d}\\t{:<5d}\\t{:>7.3f}\\t{:>7.3f}\\t{:>20.3f}\\t{:e}'\n",
    "                  .format(val,ilabel,j,hull_centx,hull_centy,hull_area,min_owlag),\n",
    "                   file = open(r\"cluster_%s.dat\" %date, \"a+\"))\n",
    "            \n",
    "            \n",
    "            # Start storing to file\n",
    "            \n",
    "            \n",
    "            \n",
    "        # Flush\n",
    "        latind_1 = None; lonind_1 = None; ilat = None; ilon = None\n",
    "        points = None; hull = None; hull_pts = None; alpha = None;\n",
    "        hull_lons = None; hull_lats = None; hull_ilon = None; hull_ilat = None\n",
    "        \n",
    "    # Flush\n",
    "    lab_arr = None; labels_out = None"
   ]
  },
  {
   "cell_type": "markdown",
   "metadata": {},
   "source": [
    "# "
   ]
  },
  {
   "cell_type": "code",
   "execution_count": 54,
   "metadata": {},
   "outputs": [],
   "source": [
    "a,b,c = 3*[None]"
   ]
  },
  {
   "cell_type": "code",
   "execution_count": 57,
   "metadata": {},
   "outputs": [
    {
     "name": "stdout",
     "output_type": "stream",
     "text": [
      "None\n"
     ]
    }
   ],
   "source": [
    "print(b)"
   ]
  },
  {
   "cell_type": "code",
   "execution_count": null,
   "metadata": {},
   "outputs": [],
   "source": []
  }
 ],
 "metadata": {
  "kernelspec": {
   "display_name": "Python 3",
   "language": "python",
   "name": "python3"
  },
  "language_info": {
   "codemirror_mode": {
    "name": "ipython",
    "version": 3
   },
   "file_extension": ".py",
   "mimetype": "text/x-python",
   "name": "python",
   "nbconvert_exporter": "python",
   "pygments_lexer": "ipython3",
   "version": "3.7.3"
  }
 },
 "nbformat": 4,
 "nbformat_minor": 2
}
