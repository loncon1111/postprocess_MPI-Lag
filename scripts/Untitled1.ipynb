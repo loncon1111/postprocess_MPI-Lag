{
 "cells": [
  {
   "cell_type": "code",
   "execution_count": 1,
   "metadata": {},
   "outputs": [],
   "source": [
    "import pandas as pd\n",
    "import numpy as np\n",
    "from datetime import datetime,timedelta"
   ]
  },
  {
   "cell_type": "code",
   "execution_count": 2,
   "metadata": {},
   "outputs": [],
   "source": [
    "def next_time(startdate,days=0,hours=0,minutes=0,seconds=0):\n",
    "    \"\"\"Find next time for calculation\"\"\"\n",
    "    sdate = datetime.strptime(startdate, '%Y%m%d_%H')\n",
    "    date = sdate + timedelta(days=days, hours=hours)\n",
    "    date = datetime.strftime(date, '%Y%m%d_%H')\n",
    "    return date\n",
    "\n",
    "def duration(startdate,enddate):\n",
    "    \"\"\"Time duration in hours\"\"\"\n",
    "    sdate = datetime.strptime(startdate, '%Y%m%d_%H')\n",
    "    edate = datetime.strptime(enddate  , '%Y%m%d_%H')\n",
    "    delta = edate - sdate\n",
    "#     if isinstance(delta, np.timedelta64):\n",
    "#         return delta.astype(timedelta).total_hours() / 60.\n",
    "    return delta.days, delta.seconds"
   ]
  },
  {
   "cell_type": "code",
   "execution_count": 12,
   "metadata": {},
   "outputs": [],
   "source": [
    "# Date\n",
    "sdate = \"20170712_00\"\n",
    "edate = \"20170730_12\"\n",
    "\n",
    "dur_day, dur_sec = duration(sdate,edate)\n",
    "\n",
    "dur_hr = dur_sec // (60*60) + dur_day * 24\n",
    "\n",
    "ndate = dur_hr // 6\n",
    "\n",
    "date = sdate"
   ]
  },
  {
   "cell_type": "code",
   "execution_count": 13,
   "metadata": {},
   "outputs": [],
   "source": [
    "for icase in range(ndate+1):\n",
    "    df = pd.read_csv(\"../CLU_VORT/labels/labellist2d_%s.csv\" %date)\n",
    "    df.columns = [col.replace(' ', '') for col in df.columns]\n",
    "    levs = df.groupby([\"level\"]).count().index.to_numpy()\n",
    "    \n",
    "    for ilev, lev in enumerate(levs):\n",
    "        new_df = df[df[\"level\"] == lev]\n",
    "        new_df.to_csv(\"labellist2d_%s_%s.csv\" %(date,int(lev)),index = None)\n",
    "        # Flush\n",
    "        new_df = None\n",
    "    date = next_time(startdate=date, hours = 6)"
   ]
  },
  {
   "cell_type": "code",
   "execution_count": null,
   "metadata": {},
   "outputs": [],
   "source": []
  }
 ],
 "metadata": {
  "kernelspec": {
   "display_name": "Python 3",
   "language": "python",
   "name": "python3"
  },
  "language_info": {
   "codemirror_mode": {
    "name": "ipython",
    "version": 3
   },
   "file_extension": ".py",
   "mimetype": "text/x-python",
   "name": "python",
   "nbconvert_exporter": "python",
   "pygments_lexer": "ipython3",
   "version": "3.7.3"
  }
 },
 "nbformat": 4,
 "nbformat_minor": 2
}
